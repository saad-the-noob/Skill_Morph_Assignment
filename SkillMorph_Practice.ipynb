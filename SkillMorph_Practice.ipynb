{
  "nbformat": 4,
  "nbformat_minor": 0,
  "metadata": {
    "colab": {
      "provenance": [],
      "toc_visible": true,
      "authorship_tag": "ABX9TyOl5RwA7CP2H1YUAA9F7DHN",
      "include_colab_link": true
    },
    "kernelspec": {
      "name": "python3",
      "display_name": "Python 3"
    },
    "language_info": {
      "name": "python"
    }
  },
  "cells": [
    {
      "cell_type": "markdown",
      "metadata": {
        "id": "view-in-github",
        "colab_type": "text"
      },
      "source": [
        "<a href=\"https://colab.research.google.com/github/saad-the-noob/Skill_Morph_Assignment/blob/main/SkillMorph_Practice.ipynb\" target=\"_parent\"><img src=\"https://colab.research.google.com/assets/colab-badge.svg\" alt=\"Open In Colab\"/></a>"
      ]
    },
    {
      "cell_type": "code",
      "execution_count": null,
      "metadata": {
        "colab": {
          "base_uri": "https://localhost:8080/"
        },
        "id": "RiF3eu-PSN4A",
        "outputId": "f61f676b-85c4-4b1b-f613-052db0b309cb"
      },
      "outputs": [
        {
          "output_type": "stream",
          "name": "stdout",
          "text": [
            "Hello World\n"
          ]
        }
      ],
      "source": [
        "print(\"Hello World\")"
      ]
    },
    {
      "cell_type": "markdown",
      "source": [
        "# **Chapter_1**"
      ],
      "metadata": {
        "id": "D5vCdKpTTcWe"
      }
    },
    {
      "cell_type": "markdown",
      "source": [
        "## **Sub chapter 1**"
      ],
      "metadata": {
        "id": "Hx6NyxaOAGKz"
      }
    },
    {
      "cell_type": "code",
      "source": [],
      "metadata": {
        "id": "9GAp2kJ1APnO"
      },
      "execution_count": null,
      "outputs": []
    }
  ]
}