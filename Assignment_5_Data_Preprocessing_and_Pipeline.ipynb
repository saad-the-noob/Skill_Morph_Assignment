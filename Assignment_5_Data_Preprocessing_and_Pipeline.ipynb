{
  "nbformat": 4,
  "nbformat_minor": 0,
  "metadata": {
    "colab": {
      "provenance": [],
      "include_colab_link": true
    },
    "kernelspec": {
      "name": "python3",
      "display_name": "Python 3"
    },
    "language_info": {
      "name": "python"
    }
  },
  "cells": [
    {
      "cell_type": "markdown",
      "metadata": {
        "id": "view-in-github",
        "colab_type": "text"
      },
      "source": [
        "<a href=\"https://colab.research.google.com/github/saad-the-noob/Skill_Morph_Assignment/blob/main/Assignment_5_Data_Preprocessing_and_Pipeline.ipynb\" target=\"_parent\"><img src=\"https://colab.research.google.com/assets/colab-badge.svg\" alt=\"Open In Colab\"/></a>"
      ]
    },
    {
      "cell_type": "code",
      "execution_count": 70,
      "metadata": {
        "id": "kxzHrZ-S1J5-",
        "colab": {
          "base_uri": "https://localhost:8080/",
          "height": 73
        },
        "outputId": "5cb6e1c2-9032-4e0f-c8cc-a70302a3d393"
      },
      "outputs": [
        {
          "output_type": "display_data",
          "data": {
            "text/plain": [
              "<IPython.core.display.HTML object>"
            ],
            "text/html": [
              "\n",
              "     <input type=\"file\" id=\"files-cfee05f2-2cee-4f21-bdca-99af54273d06\" name=\"files[]\" multiple disabled\n",
              "        style=\"border:none\" />\n",
              "     <output id=\"result-cfee05f2-2cee-4f21-bdca-99af54273d06\">\n",
              "      Upload widget is only available when the cell has been executed in the\n",
              "      current browser session. Please rerun this cell to enable.\n",
              "      </output>\n",
              "      <script>// Copyright 2017 Google LLC\n",
              "//\n",
              "// Licensed under the Apache License, Version 2.0 (the \"License\");\n",
              "// you may not use this file except in compliance with the License.\n",
              "// You may obtain a copy of the License at\n",
              "//\n",
              "//      http://www.apache.org/licenses/LICENSE-2.0\n",
              "//\n",
              "// Unless required by applicable law or agreed to in writing, software\n",
              "// distributed under the License is distributed on an \"AS IS\" BASIS,\n",
              "// WITHOUT WARRANTIES OR CONDITIONS OF ANY KIND, either express or implied.\n",
              "// See the License for the specific language governing permissions and\n",
              "// limitations under the License.\n",
              "\n",
              "/**\n",
              " * @fileoverview Helpers for google.colab Python module.\n",
              " */\n",
              "(function(scope) {\n",
              "function span(text, styleAttributes = {}) {\n",
              "  const element = document.createElement('span');\n",
              "  element.textContent = text;\n",
              "  for (const key of Object.keys(styleAttributes)) {\n",
              "    element.style[key] = styleAttributes[key];\n",
              "  }\n",
              "  return element;\n",
              "}\n",
              "\n",
              "// Max number of bytes which will be uploaded at a time.\n",
              "const MAX_PAYLOAD_SIZE = 100 * 1024;\n",
              "\n",
              "function _uploadFiles(inputId, outputId) {\n",
              "  const steps = uploadFilesStep(inputId, outputId);\n",
              "  const outputElement = document.getElementById(outputId);\n",
              "  // Cache steps on the outputElement to make it available for the next call\n",
              "  // to uploadFilesContinue from Python.\n",
              "  outputElement.steps = steps;\n",
              "\n",
              "  return _uploadFilesContinue(outputId);\n",
              "}\n",
              "\n",
              "// This is roughly an async generator (not supported in the browser yet),\n",
              "// where there are multiple asynchronous steps and the Python side is going\n",
              "// to poll for completion of each step.\n",
              "// This uses a Promise to block the python side on completion of each step,\n",
              "// then passes the result of the previous step as the input to the next step.\n",
              "function _uploadFilesContinue(outputId) {\n",
              "  const outputElement = document.getElementById(outputId);\n",
              "  const steps = outputElement.steps;\n",
              "\n",
              "  const next = steps.next(outputElement.lastPromiseValue);\n",
              "  return Promise.resolve(next.value.promise).then((value) => {\n",
              "    // Cache the last promise value to make it available to the next\n",
              "    // step of the generator.\n",
              "    outputElement.lastPromiseValue = value;\n",
              "    return next.value.response;\n",
              "  });\n",
              "}\n",
              "\n",
              "/**\n",
              " * Generator function which is called between each async step of the upload\n",
              " * process.\n",
              " * @param {string} inputId Element ID of the input file picker element.\n",
              " * @param {string} outputId Element ID of the output display.\n",
              " * @return {!Iterable<!Object>} Iterable of next steps.\n",
              " */\n",
              "function* uploadFilesStep(inputId, outputId) {\n",
              "  const inputElement = document.getElementById(inputId);\n",
              "  inputElement.disabled = false;\n",
              "\n",
              "  const outputElement = document.getElementById(outputId);\n",
              "  outputElement.innerHTML = '';\n",
              "\n",
              "  const pickedPromise = new Promise((resolve) => {\n",
              "    inputElement.addEventListener('change', (e) => {\n",
              "      resolve(e.target.files);\n",
              "    });\n",
              "  });\n",
              "\n",
              "  const cancel = document.createElement('button');\n",
              "  inputElement.parentElement.appendChild(cancel);\n",
              "  cancel.textContent = 'Cancel upload';\n",
              "  const cancelPromise = new Promise((resolve) => {\n",
              "    cancel.onclick = () => {\n",
              "      resolve(null);\n",
              "    };\n",
              "  });\n",
              "\n",
              "  // Wait for the user to pick the files.\n",
              "  const files = yield {\n",
              "    promise: Promise.race([pickedPromise, cancelPromise]),\n",
              "    response: {\n",
              "      action: 'starting',\n",
              "    }\n",
              "  };\n",
              "\n",
              "  cancel.remove();\n",
              "\n",
              "  // Disable the input element since further picks are not allowed.\n",
              "  inputElement.disabled = true;\n",
              "\n",
              "  if (!files) {\n",
              "    return {\n",
              "      response: {\n",
              "        action: 'complete',\n",
              "      }\n",
              "    };\n",
              "  }\n",
              "\n",
              "  for (const file of files) {\n",
              "    const li = document.createElement('li');\n",
              "    li.append(span(file.name, {fontWeight: 'bold'}));\n",
              "    li.append(span(\n",
              "        `(${file.type || 'n/a'}) - ${file.size} bytes, ` +\n",
              "        `last modified: ${\n",
              "            file.lastModifiedDate ? file.lastModifiedDate.toLocaleDateString() :\n",
              "                                    'n/a'} - `));\n",
              "    const percent = span('0% done');\n",
              "    li.appendChild(percent);\n",
              "\n",
              "    outputElement.appendChild(li);\n",
              "\n",
              "    const fileDataPromise = new Promise((resolve) => {\n",
              "      const reader = new FileReader();\n",
              "      reader.onload = (e) => {\n",
              "        resolve(e.target.result);\n",
              "      };\n",
              "      reader.readAsArrayBuffer(file);\n",
              "    });\n",
              "    // Wait for the data to be ready.\n",
              "    let fileData = yield {\n",
              "      promise: fileDataPromise,\n",
              "      response: {\n",
              "        action: 'continue',\n",
              "      }\n",
              "    };\n",
              "\n",
              "    // Use a chunked sending to avoid message size limits. See b/62115660.\n",
              "    let position = 0;\n",
              "    do {\n",
              "      const length = Math.min(fileData.byteLength - position, MAX_PAYLOAD_SIZE);\n",
              "      const chunk = new Uint8Array(fileData, position, length);\n",
              "      position += length;\n",
              "\n",
              "      const base64 = btoa(String.fromCharCode.apply(null, chunk));\n",
              "      yield {\n",
              "        response: {\n",
              "          action: 'append',\n",
              "          file: file.name,\n",
              "          data: base64,\n",
              "        },\n",
              "      };\n",
              "\n",
              "      let percentDone = fileData.byteLength === 0 ?\n",
              "          100 :\n",
              "          Math.round((position / fileData.byteLength) * 100);\n",
              "      percent.textContent = `${percentDone}% done`;\n",
              "\n",
              "    } while (position < fileData.byteLength);\n",
              "  }\n",
              "\n",
              "  // All done.\n",
              "  yield {\n",
              "    response: {\n",
              "      action: 'complete',\n",
              "    }\n",
              "  };\n",
              "}\n",
              "\n",
              "scope.google = scope.google || {};\n",
              "scope.google.colab = scope.google.colab || {};\n",
              "scope.google.colab._files = {\n",
              "  _uploadFiles,\n",
              "  _uploadFilesContinue,\n",
              "};\n",
              "})(self);\n",
              "</script> "
            ]
          },
          "metadata": {}
        },
        {
          "output_type": "stream",
          "name": "stdout",
          "text": [
            "Saving Housing(6).csv to Housing(6).csv\n"
          ]
        }
      ],
      "source": [
        "#Load the Data\n",
        "import pandas as pd\n",
        "import numpy as np\n",
        "from sklearn.model_selection import train_test_split\n",
        "from sklearn.preprocessing import StandardScaler\n",
        "\n",
        "# TODO: Load the housing data\n",
        "from google.colab import files       # from pc\n",
        "uploaded = files.upload()\n",
        "import io\n",
        "df=pd.read_csv(io.BytesIO(uploaded['Housing(6).csv']))\n"
      ]
    },
    {
      "cell_type": "code",
      "source": [
        "# TODO: How many houses are there?\n",
        "print(f\"Number of houses: \", len(df))  # Fill this\n",
        "\n",
        "# TODO: Show first 3 houses\n",
        "# Your code here\n",
        "print(df.head(3))"
      ],
      "metadata": {
        "colab": {
          "base_uri": "https://localhost:8080/"
        },
        "id": "kn8zM5F82NVh",
        "outputId": "2fc43f76-cd45-4c3a-e09e-cc4061d1fe6a"
      },
      "execution_count": 71,
      "outputs": [
        {
          "output_type": "stream",
          "name": "stdout",
          "text": [
            "Number of houses:  545\n",
            "      price  area  bedrooms  bathrooms  stories mainroad guestroom basement  \\\n",
            "0  13300000  7420         4          2        3      yes        no       no   \n",
            "1  12250000  8960         4          4        4      yes        no       no   \n",
            "2  12250000  9960         3          2        2      yes        no      yes   \n",
            "\n",
            "  hotwaterheating airconditioning  parking prefarea furnishingstatus  \n",
            "0              no             yes        2      yes        furnished  \n",
            "1              no             yes        3       no        furnished  \n",
            "2              no              no        2      yes   semi-furnished  \n"
          ]
        }
      ]
    },
    {
      "cell_type": "code",
      "source": [
        "# Look at Columns\n",
        "# TODO: Show all column names\n",
        "print(\"Columns:\")\n",
        "# Your code here\n",
        "print(df.columns.tolist())\n",
        "# TODO: Show data types of columns\n",
        "print(\"Data types:\")\n",
        "print(df.dtypes)"
      ],
      "metadata": {
        "id": "jY6xciSB1fGX",
        "colab": {
          "base_uri": "https://localhost:8080/"
        },
        "outputId": "612e8416-2b9c-4d52-988b-ab203eff7c87"
      },
      "execution_count": 72,
      "outputs": [
        {
          "output_type": "stream",
          "name": "stdout",
          "text": [
            "Columns:\n",
            "['price', 'area', 'bedrooms', 'bathrooms', 'stories', 'mainroad', 'guestroom', 'basement', 'hotwaterheating', 'airconditioning', 'parking', 'prefarea', 'furnishingstatus']\n",
            "Data types:\n",
            "price                int64\n",
            "area                 int64\n",
            "bedrooms             int64\n",
            "bathrooms            int64\n",
            "stories              int64\n",
            "mainroad            object\n",
            "guestroom           object\n",
            "basement            object\n",
            "hotwaterheating     object\n",
            "airconditioning     object\n",
            "parking              int64\n",
            "prefarea            object\n",
            "furnishingstatus    object\n",
            "dtype: object\n"
          ]
        }
      ]
    },
    {
      "cell_type": "code",
      "source": [
        "#Convert Yes/No to 1/0\n",
        "# Check what's in our data\n",
        "# Shows: yes, no, yes, yes, no\n",
        "# Models need numbers, not text!\n",
        "# We need: yes → 1, no → 0\n",
        "''' Better use-  for col in [\"mainroad\",\"guestroom\",......]:\n",
        "                     df[col] = le.fit_transform(df[col])'''\n",
        "from sklearn.preprocessing import LabelEncoder\n",
        "le = LabelEncoder()\n",
        "df['mainroad_encoded'] = le.fit_transform(df['mainroad'])\n",
        "df['guestroom_encoded'] = le.fit_transform(df['guestroom'])\n",
        "df['basement_encoded'] = le.fit_transform(df['basement'])\n",
        "df['hotwaterheating_encoded'] = le.fit_transform(df['hotwaterheating'])\n",
        "df['airconditioning_encoded'] = le.fit_transform(df['airconditioning'])\n",
        "df['prefarea_encoded'] = le.fit_transform(df['prefarea'])\n",
        "print(df.head())\n"
      ],
      "metadata": {
        "id": "MwB1ZgVl1plX",
        "colab": {
          "base_uri": "https://localhost:8080/"
        },
        "outputId": "977f7a26-872e-4feb-c38d-8b60e4dccec2"
      },
      "execution_count": 73,
      "outputs": [
        {
          "output_type": "stream",
          "name": "stdout",
          "text": [
            "      price  area  bedrooms  bathrooms  stories mainroad guestroom basement  \\\n",
            "0  13300000  7420         4          2        3      yes        no       no   \n",
            "1  12250000  8960         4          4        4      yes        no       no   \n",
            "2  12250000  9960         3          2        2      yes        no      yes   \n",
            "3  12215000  7500         4          2        2      yes        no      yes   \n",
            "4  11410000  7420         4          1        2      yes       yes      yes   \n",
            "\n",
            "  hotwaterheating airconditioning  parking prefarea furnishingstatus  \\\n",
            "0              no             yes        2      yes        furnished   \n",
            "1              no             yes        3       no        furnished   \n",
            "2              no              no        2      yes   semi-furnished   \n",
            "3              no             yes        3      yes        furnished   \n",
            "4              no             yes        2       no        furnished   \n",
            "\n",
            "   mainroad_encoded  guestroom_encoded  basement_encoded  \\\n",
            "0                 1                  0                 0   \n",
            "1                 1                  0                 0   \n",
            "2                 1                  0                 1   \n",
            "3                 1                  0                 1   \n",
            "4                 1                  1                 1   \n",
            "\n",
            "   hotwaterheating_encoded  airconditioning_encoded  prefarea_encoded  \n",
            "0                        0                        1                 1  \n",
            "1                        0                        1                 0  \n",
            "2                        0                        0                 1  \n",
            "3                        0                        1                 1  \n",
            "4                        0                        1                 0  \n"
          ]
        }
      ]
    },
    {
      "cell_type": "code",
      "source": [
        "furnishingstatus_encoded = pd.get_dummies(df['furnishingstatus'])\n",
        "df = pd.concat([df, furnishingstatus_encoded], axis=1) #Run this carefully as it concate's\n",
        "print(df.head())"
      ],
      "metadata": {
        "colab": {
          "base_uri": "https://localhost:8080/"
        },
        "id": "Fw-k0nNRYaHk",
        "outputId": "491133f0-09e6-44d7-ab83-05682f7bfb42"
      },
      "execution_count": 74,
      "outputs": [
        {
          "output_type": "stream",
          "name": "stdout",
          "text": [
            "      price  area  bedrooms  bathrooms  stories mainroad guestroom basement  \\\n",
            "0  13300000  7420         4          2        3      yes        no       no   \n",
            "1  12250000  8960         4          4        4      yes        no       no   \n",
            "2  12250000  9960         3          2        2      yes        no      yes   \n",
            "3  12215000  7500         4          2        2      yes        no      yes   \n",
            "4  11410000  7420         4          1        2      yes       yes      yes   \n",
            "\n",
            "  hotwaterheating airconditioning  ...  furnishingstatus mainroad_encoded  \\\n",
            "0              no             yes  ...         furnished                1   \n",
            "1              no             yes  ...         furnished                1   \n",
            "2              no              no  ...    semi-furnished                1   \n",
            "3              no             yes  ...         furnished                1   \n",
            "4              no             yes  ...         furnished                1   \n",
            "\n",
            "  guestroom_encoded  basement_encoded  hotwaterheating_encoded  \\\n",
            "0                 0                 0                        0   \n",
            "1                 0                 0                        0   \n",
            "2                 0                 1                        0   \n",
            "3                 0                 1                        0   \n",
            "4                 1                 1                        0   \n",
            "\n",
            "   airconditioning_encoded  prefarea_encoded  furnished  semi-furnished  \\\n",
            "0                        1                 1       True           False   \n",
            "1                        1                 0       True           False   \n",
            "2                        0                 1      False            True   \n",
            "3                        1                 1       True           False   \n",
            "4                        1                 0       True           False   \n",
            "\n",
            "   unfurnished  \n",
            "0        False  \n",
            "1        False  \n",
            "2        False  \n",
            "3        False  \n",
            "4        False  \n",
            "\n",
            "[5 rows x 22 columns]\n"
          ]
        }
      ]
    },
    {
      "cell_type": "code",
      "source": [
        "from sklearn.preprocessing import LabelEncoder\n",
        "label_encoder = LabelEncoder()\n",
        "df[\"furnished_encoded\"]=label_encoder.fit_transform(df[\"furnished\"])\n",
        "df[\"semi-furnished_encoded\"]=label_encoder.fit_transform(df[\"semi-furnished\"])\n",
        "df[\"unfurnished_encoded\"]=label_encoder.fit_transform(df[\"unfurnished\"])\n",
        "print(df.head())\n"
      ],
      "metadata": {
        "id": "wwa7hhpokF-m",
        "colab": {
          "base_uri": "https://localhost:8080/"
        },
        "outputId": "7e7d337a-7292-45b2-bce2-10b3fee561ab"
      },
      "execution_count": 75,
      "outputs": [
        {
          "output_type": "stream",
          "name": "stdout",
          "text": [
            "      price  area  bedrooms  bathrooms  stories mainroad guestroom basement  \\\n",
            "0  13300000  7420         4          2        3      yes        no       no   \n",
            "1  12250000  8960         4          4        4      yes        no       no   \n",
            "2  12250000  9960         3          2        2      yes        no      yes   \n",
            "3  12215000  7500         4          2        2      yes        no      yes   \n",
            "4  11410000  7420         4          1        2      yes       yes      yes   \n",
            "\n",
            "  hotwaterheating airconditioning  ...  basement_encoded  \\\n",
            "0              no             yes  ...                 0   \n",
            "1              no             yes  ...                 0   \n",
            "2              no              no  ...                 1   \n",
            "3              no             yes  ...                 1   \n",
            "4              no             yes  ...                 1   \n",
            "\n",
            "  hotwaterheating_encoded airconditioning_encoded  prefarea_encoded  \\\n",
            "0                       0                       1                 1   \n",
            "1                       0                       1                 0   \n",
            "2                       0                       0                 1   \n",
            "3                       0                       1                 1   \n",
            "4                       0                       1                 0   \n",
            "\n",
            "   furnished  semi-furnished  unfurnished  furnished_encoded  \\\n",
            "0       True           False        False                  1   \n",
            "1       True           False        False                  1   \n",
            "2      False            True        False                  0   \n",
            "3       True           False        False                  1   \n",
            "4       True           False        False                  1   \n",
            "\n",
            "   semi-furnished_encoded  unfurnished_encoded  \n",
            "0                       0                    0  \n",
            "1                       0                    0  \n",
            "2                       1                    0  \n",
            "3                       0                    0  \n",
            "4                       0                    0  \n",
            "\n",
            "[5 rows x 25 columns]\n"
          ]
        }
      ]
    },
    {
      "cell_type": "code",
      "source": [
        "# Split into Train and Test\n",
        "# TODO: Split - 80% train, 20% test\n",
        "x=df.drop(['price','mainroad','guestroom','basement','hotwaterheating','airconditioning','furnishingstatus',\n",
        "            'prefarea','furnished','semi-furnished', 'unfurnished'],axis=1)\n",
        "y=df['price']\n",
        "x_train,x_test,y_train,y_test=train_test_split(x,y,test_size=0.2,random_state=20)\n",
        "\n"
      ],
      "metadata": {
        "id": "CGWFD9Do1w2J"
      },
      "execution_count": 76,
      "outputs": []
    },
    {
      "cell_type": "code",
      "source": [
        "#Apply StandardScaler\n",
        "# Area is huge (1650-13300), Bedrooms is small (1-6)!\n",
        "#Your Code here\n",
        "scaler=StandardScaler()\n",
        "x_train_scaled=scaler.fit_transform(x_train)\n",
        "x_test_scaled=scaler.transform(x_test)\n"
      ],
      "metadata": {
        "id": "ORsVWo8E18y1"
      },
      "execution_count": 78,
      "outputs": []
    },
    {
      "cell_type": "code",
      "source": [
        "#train and test model\n",
        "#your code here\n",
        "from sklearn.linear_model import LogisticRegression\n",
        "model = LogisticRegression(max_iter=500)\n",
        "model.fit(x_train_scaled, y_train)\n",
        "accuracy = model.score(x_test_scaled, y_test)\n",
        "train_score = model.score(x_train_scaled, y_train)\n",
        "print(f\"Training accuracy: {train_score:.1%}\")\n",
        "print(f\"Accuracy: {accuracy:.1%}\")"
      ],
      "metadata": {
        "id": "khBlvU-f2QnW",
        "colab": {
          "base_uri": "https://localhost:8080/"
        },
        "outputId": "cf4ba92a-caa7-4fcc-f011-8678c2664e5e"
      },
      "execution_count": 79,
      "outputs": [
        {
          "output_type": "stream",
          "name": "stdout",
          "text": [
            "Training accuracy: 47.2%\n",
            "Accuracy: 1.8%\n"
          ]
        }
      ]
    },
    {
      "cell_type": "code",
      "source": [
        "import joblib\n",
        "\n",
        "# Save the model\n",
        "joblib.dump(model, 'my_model.pkl')\n",
        "print(\"✅ Model saved as 'my_model.pkl'\")\n",
        "\n",
        "# Save the scaler\n",
        "joblib.dump(scaler, 'my_scaler.pkl')\n",
        "print(\"✅ Scaler saved as 'my_scaler.pkl'\")\n",
        "\n",
        "# Save scaled data as CSV\n",
        "pd.DataFrame(x_train_scaled).to_csv('train_data_scaled.csv', index=False)\n",
        "print(\"✅ Scaled data saved as 'train_data_scaled.csv'\")\n"
      ],
      "metadata": {
        "colab": {
          "base_uri": "https://localhost:8080/"
        },
        "id": "YHLOnZAl_Xbz",
        "outputId": "0544dbfb-b368-4006-e104-a7089b95ed75"
      },
      "execution_count": 80,
      "outputs": [
        {
          "output_type": "stream",
          "name": "stdout",
          "text": [
            "✅ Model saved as 'my_model.pkl'\n",
            "✅ Scaler saved as 'my_scaler.pkl'\n",
            "✅ Scaled data saved as 'train_data_scaled.csv'\n"
          ]
        }
      ]
    },
    {
      "cell_type": "code",
      "source": [
        "# Predict a House Price\n",
        "# New house details:\n",
        "# area=5000, bedrooms=3, bathrooms=2, stories=2,\n",
        "# mainroad=yes, guestroom=no, basement=yes,\n",
        "# hotwaterheating=no, airconditioning=yes,\n",
        "# parking=2, prefarea=yes, furnishingstatus=furnished\n",
        "#your code here\n",
        "model = joblib.load('my_model.pkl')\n",
        "scaler = joblib.load('my_scaler.pkl')\n",
        "\n",
        "new_house=[[5000,3,2,2,2,1,0,1,0,1,1,1,0,0]]    #set the values following the sequence of columns in x_train.\n",
        "new_house_scaled = scaler.transform(new_house)\n",
        "predicted_price = model.predict(new_house_scaled)\n",
        "print(f\"Predicted price: {predicted_price[0]}\")"
      ],
      "metadata": {
        "id": "no5CjmoK2aHb",
        "colab": {
          "base_uri": "https://localhost:8080/"
        },
        "outputId": "0c53d70c-0ce0-4a2c-f9ad-979c094190ae"
      },
      "execution_count": 83,
      "outputs": [
        {
          "output_type": "stream",
          "name": "stdout",
          "text": [
            "Predicted price: 12215000\n"
          ]
        },
        {
          "output_type": "stream",
          "name": "stderr",
          "text": [
            "/usr/local/lib/python3.12/dist-packages/sklearn/utils/validation.py:2739: UserWarning: X does not have valid feature names, but StandardScaler was fitted with feature names\n",
            "  warnings.warn(\n"
          ]
        }
      ]
    },
    {
      "cell_type": "code",
      "source": [],
      "metadata": {
        "id": "fwLQgv-c_26T"
      },
      "execution_count": null,
      "outputs": []
    }
  ]
}