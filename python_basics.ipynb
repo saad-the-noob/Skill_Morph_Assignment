{
  "nbformat": 4,
  "nbformat_minor": 0,
  "metadata": {
    "colab": {
      "provenance": [],
      "authorship_tag": "ABX9TyODhyqeJnZJZlgs35CMEHew",
      "include_colab_link": true
    },
    "kernelspec": {
      "name": "python3",
      "display_name": "Python 3"
    },
    "language_info": {
      "name": "python"
    }
  },
  "cells": [
    {
      "cell_type": "markdown",
      "metadata": {
        "id": "view-in-github",
        "colab_type": "text"
      },
      "source": [
        "<a href=\"https://colab.research.google.com/github/saad-the-noob/Skill_Morph_Assignment/blob/main/python_basics.ipynb\" target=\"_parent\"><img src=\"https://colab.research.google.com/assets/colab-badge.svg\" alt=\"Open In Colab\"/></a>"
      ]
    },
    {
      "cell_type": "markdown",
      "source": [
        "2.1. Create variables for your name, age, and favorite color, then print them with descriptive labels.\n",
        "\n"
      ],
      "metadata": {
        "id": "DrQdO35oGQzO"
      }
    },
    {
      "cell_type": "code",
      "source": [
        "name = \"Raj\"\n",
        "age = 20\n",
        "fav_color =\"white\"\n",
        "# Printing variables\n",
        "print(\"Name:\", name)\n",
        "print(\"Age:\", age)\n",
        "print(\"favourite color\", fav_color)"
      ],
      "metadata": {
        "colab": {
          "base_uri": "https://localhost:8080/"
        },
        "id": "u6_JBX3HGWk0",
        "outputId": "e33bb10e-a851-441b-fff0-4cb6e08ec8a3"
      },
      "execution_count": null,
      "outputs": [
        {
          "output_type": "stream",
          "name": "stdout",
          "text": [
            "Name: Raj\n",
            "Age: 20\n",
            "favourite color white\n"
          ]
        }
      ]
    },
    {
      "cell_type": "markdown",
      "source": [
        "2.2.Create one variable of each type and use the type() function to verify its type."
      ],
      "metadata": {
        "id": "e5ktTY_mG6g7"
      }
    },
    {
      "cell_type": "code",
      "source": [
        "string = \"Raj\"\n",
        "integer = 20\n",
        "float_number =20.5\n",
        "complex_number=(-2)**(0.5)\n",
        "boolean = True\n",
        "none =None\n",
        "print(type(string))\n",
        "print(type(integer))\n",
        "print(type(float_number))\n",
        "print(type(complex_number))\n",
        "print(type(boolean))\n",
        "print(type(none))"
      ],
      "metadata": {
        "id": "e81o_KLHG8w7",
        "colab": {
          "base_uri": "https://localhost:8080/"
        },
        "outputId": "644b7976-c411-4dcc-df3c-d2f468674575"
      },
      "execution_count": null,
      "outputs": [
        {
          "output_type": "stream",
          "name": "stdout",
          "text": [
            "<class 'str'>\n",
            "<class 'int'>\n",
            "<class 'float'>\n",
            "<class 'complex'>\n",
            "<class 'bool'>\n",
            "<class 'NoneType'>\n"
          ]
        }
      ]
    },
    {
      "cell_type": "markdown",
      "source": [
        "2.3.  Calculate the area and perimeter of a rectangle with length 7 and width 5."
      ],
      "metadata": {
        "id": "hjUpmX8ALC3w"
      }
    },
    {
      "cell_type": "code",
      "source": [
        "area=print(\"area\" ,7*5 ,\"sq.unit\")\n",
        "perimeter=print(\"perimeter\",2*(7+5),\"unit\")"
      ],
      "metadata": {
        "colab": {
          "base_uri": "https://localhost:8080/"
        },
        "id": "4S79nnFqLGZv",
        "outputId": "065e8d99-7ab6-49aa-c690-1f11580cd6db"
      },
      "execution_count": null,
      "outputs": [
        {
          "output_type": "stream",
          "name": "stdout",
          "text": [
            "area 35 sq.unit\n",
            "perimeter 24 unit\n"
          ]
        }
      ]
    },
    {
      "cell_type": "markdown",
      "source": [
        "2.4.Create a list of 5 Bangladeshi foods, then access the first and\n",
        "last elements."
      ],
      "metadata": {
        "id": "Z7_wnPuKLmpa"
      }
    },
    {
      "cell_type": "code",
      "source": [
        "fruits = [\"apple\", \"banana\", \"orange\", \"mango\",\"grapes\"]\n",
        "print(fruits[0])\n",
        "print(fruits[4])"
      ],
      "metadata": {
        "colab": {
          "base_uri": "https://localhost:8080/"
        },
        "id": "jVLVulNxLrxa",
        "outputId": "8177cdb2-ae25-47e0-b346-27d83189930a"
      },
      "execution_count": null,
      "outputs": [
        {
          "output_type": "stream",
          "name": "stdout",
          "text": [
            "apple\n",
            "grapes\n"
          ]
        }
      ]
    },
    {
      "cell_type": "markdown",
      "source": [
        "2.5 Create a list of 5 numbers, add a new number, remove one, and then sort the list."
      ],
      "metadata": {
        "id": "uOgjA5bNsl25"
      }
    },
    {
      "cell_type": "code",
      "source": [
        "list = [6,9,7,3,5]"
      ],
      "metadata": {
        "id": "rj8hEm6AMHvC"
      },
      "execution_count": null,
      "outputs": []
    },
    {
      "cell_type": "code",
      "source": [
        "list.append(2)\n",
        "list.remove(7)\n",
        "list.sort()\n",
        "print(list)"
      ],
      "metadata": {
        "colab": {
          "base_uri": "https://localhost:8080/"
        },
        "id": "LziXncvEstxA",
        "outputId": "6acaec97-b54c-4294-8f58-5dc73d86af8e"
      },
      "execution_count": null,
      "outputs": [
        {
          "output_type": "stream",
          "name": "stdout",
          "text": [
            "[2, 3, 5, 6, 9]\n"
          ]
        }
      ]
    },
    {
      "cell_type": "markdown",
      "source": [
        "2.6 Create a dictionary about yourself with at least 4 key-value pairs."
      ],
      "metadata": {
        "id": "04sGnWtGtX6z"
      }
    },
    {
      "cell_type": "code",
      "source": [
        "student = {\n",
        "\"name\": \"Saad\",\n",
        "\"age\": 21,\n",
        "\"university\": \"DU\",\n",
        "\"courses\": [\"Python\", \"Data Science\", \"Web Development\"]}"
      ],
      "metadata": {
        "id": "S8pdq84TteGi"
      },
      "execution_count": null,
      "outputs": []
    },
    {
      "cell_type": "markdown",
      "source": [
        "2.7 Create a tuple with the latitude and longitude of a famous place in Bangladesh."
      ],
      "metadata": {
        "id": "lT_vDAS7tsIX"
      }
    },
    {
      "cell_type": "code",
      "source": [
        "tup = (23.7099 , 90.4069 )"
      ],
      "metadata": {
        "id": "fDv7ob0AtoQu"
      },
      "execution_count": null,
      "outputs": []
    },
    {
      "cell_type": "markdown",
      "source": [
        "2.8  Create two sets of colors and find their union and intersection."
      ],
      "metadata": {
        "id": "c5gIvQHsuwQk"
      }
    },
    {
      "cell_type": "code",
      "source": [
        "set1= {\"Red\", \"Blue\"}\n",
        "set2= {\"Green\", \"Purpel\",\"Blue\"}\n",
        "union = set1.union(set2)\n",
        "intersection = set1.intersection(set2)\n",
        "print(union)\n",
        "print(intersection)"
      ],
      "metadata": {
        "colab": {
          "base_uri": "https://localhost:8080/"
        },
        "id": "JrG4TbD0uLLr",
        "outputId": "b854b2a5-8581-4ea6-dc42-98f44ccde9e6"
      },
      "execution_count": null,
      "outputs": [
        {
          "output_type": "stream",
          "name": "stdout",
          "text": [
            "{'Red', 'Blue', 'Green', 'Purpel'}\n",
            "{'Blue'}\n"
          ]
        }
      ]
    },
    {
      "cell_type": "markdown",
      "source": [
        "2.9 Write a program that checks if a number is positive, negative, or zero."
      ],
      "metadata": {
        "id": "QSMH29LmvND3"
      }
    },
    {
      "cell_type": "code",
      "source": [
        "print(\"Enter a number\")\n",
        "n = int(input())\n",
        "if (n==0):\n",
        "  print(\"Zero\")\n",
        "elif (n>0):\n",
        "  print(\"Positive\")\n",
        "else :\n",
        "  print(\"Negetive\")"
      ],
      "metadata": {
        "colab": {
          "base_uri": "https://localhost:8080/"
        },
        "id": "gBWdP3VGvCJD",
        "outputId": "cb850b65-0e31-42a4-cba1-ff98174612e5"
      },
      "execution_count": null,
      "outputs": [
        {
          "output_type": "stream",
          "name": "stdout",
          "text": [
            "Enter a number\n",
            "-55\n",
            "Negetive\n"
          ]
        }
      ]
    },
    {
      "cell_type": "markdown",
      "source": [
        "2.10  Write a program that checks eligibility for a discount (student AND under 25, OR senior over 60)."
      ],
      "metadata": {
        "id": "81kUgVcowv3Y"
      }
    },
    {
      "cell_type": "code",
      "source": [
        "print(\"Are you a student?\\nyes: press 1, not: press 0\")\n",
        "student = int(input())\n",
        "if (student == 0):\n",
        "  print(\"Are you a senior?\\nyes: press 2, not: press 3\")\n",
        "  senior=int(input())\n",
        "age = int(input(\"Enter your age\"))\n",
        "if ((student == 1 and age < 25) or (senior == 2 and age > 60)):\n",
        "  print(\"You are eligible for a discount\")\n",
        "else:\n",
        "  print(\"You are not eligible for a discount\")"
      ],
      "metadata": {
        "colab": {
          "base_uri": "https://localhost:8080/"
        },
        "id": "qC9Ijtr7wfLY",
        "outputId": "4aebf7b0-15eb-4e22-d47a-fc8bb0ee92dc"
      },
      "execution_count": null,
      "outputs": [
        {
          "output_type": "stream",
          "name": "stdout",
          "text": [
            "Are you a student?\n",
            "yes: press 1, not: press 0\n",
            "1\n",
            "Enter your age24\n",
            "You are eligible for a discount\n"
          ]
        }
      ]
    },
    {
      "cell_type": "markdown",
      "source": [
        "2.11  Write a program that prints the first 10 even numbers\n",
        "using a for or while loop."
      ],
      "metadata": {
        "id": "eNLZSF_g1zOZ"
      }
    },
    {
      "cell_type": "code",
      "source": [
        "print(\"First 10 even numbers:\")\n",
        "for i in range(2,22,2):\n",
        "  print(i)\n"
      ],
      "metadata": {
        "colab": {
          "base_uri": "https://localhost:8080/"
        },
        "id": "xQziFph21Vad",
        "outputId": "1290863b-3d5c-4a4e-adaa-72b1f298a958"
      },
      "execution_count": null,
      "outputs": [
        {
          "output_type": "stream",
          "name": "stdout",
          "text": [
            "First 10 even numbers:\n",
            "2\n",
            "4\n",
            "6\n",
            "8\n",
            "10\n",
            "12\n",
            "14\n",
            "16\n",
            "18\n",
            "20\n"
          ]
        }
      ]
    },
    {
      "cell_type": "code",
      "source": [
        "#Better method\n",
        "print(\"First 10 even numbers:\")\n",
        "for i in range(1, 11):\n",
        "    print(i * 2)"
      ],
      "metadata": {
        "colab": {
          "base_uri": "https://localhost:8080/"
        },
        "id": "-FiixnoQ2w0S",
        "outputId": "941cfce4-6b52-4c31-d5c2-80e09b7571f7"
      },
      "execution_count": null,
      "outputs": [
        {
          "output_type": "stream",
          "name": "stdout",
          "text": [
            "First 10 even numbers:\n",
            "2\n",
            "4\n",
            "6\n",
            "8\n",
            "10\n",
            "12\n",
            "14\n",
            "16\n",
            "18\n",
            "20\n"
          ]
        }
      ]
    },
    {
      "cell_type": "markdown",
      "source": [
        "2.12 Write a program that prints a simple number pyramid pattern using nested loops."
      ],
      "metadata": {
        "id": "ePZqkwwZEv_I"
      }
    },
    {
      "cell_type": "code",
      "source": [
        "rows = int(input(\"Enter the number of rows: \"))\n",
        "for i in range(1, rows + 1):\n",
        "    line = \"\"\n",
        "    for k in range(1, i + 1):\n",
        "        line += str(k) + \" \"\n",
        "    print(line)"
      ],
      "metadata": {
        "id": "O3xYZFrL3Yao",
        "colab": {
          "base_uri": "https://localhost:8080/"
        },
        "outputId": "55a26092-d1f1-44d9-f22c-bf3303a4df9b"
      },
      "execution_count": null,
      "outputs": [
        {
          "output_type": "stream",
          "name": "stdout",
          "text": [
            "Enter the number of rows: 10\n",
            "1 \n",
            "1 2 \n",
            "1 2 3 \n",
            "1 2 3 4 \n",
            "1 2 3 4 5 \n",
            "1 2 3 4 5 6 \n",
            "1 2 3 4 5 6 7 \n",
            "1 2 3 4 5 6 7 8 \n",
            "1 2 3 4 5 6 7 8 9 \n",
            "1 2 3 4 5 6 7 8 9 10 \n"
          ]
        }
      ]
    },
    {
      "cell_type": "markdown",
      "source": [
        "2.13 Create a function that converts temperature from Celsius to Fahrenheit using the formula: F = (C × 9/5) + 32"
      ],
      "metadata": {
        "id": "dTP5VHUEX5TZ"
      }
    },
    {
      "cell_type": "code",
      "source": [
        "def celsius_to_fahrenheit(celsius):\n",
        "    fahrenheit = (celsius * 9/5) + 32\n",
        "    return fahrenheit\n",
        "print(celsius_to_fahrenheit(100))"
      ],
      "metadata": {
        "id": "2cE1d_cl_w8N",
        "colab": {
          "base_uri": "https://localhost:8080/"
        },
        "outputId": "71e1ffd5-a94a-4be6-d0c9-6676fea36a94"
      },
      "execution_count": 2,
      "outputs": [
        {
          "output_type": "stream",
          "name": "stdout",
          "text": [
            "212.0\n"
          ]
        }
      ]
    },
    {
      "cell_type": "markdown",
      "source": [
        "2.14 Create a function with default parameters that calculates the area of a rectangle."
      ],
      "metadata": {
        "id": "Q_btnXUSYsiP"
      }
    },
    {
      "cell_type": "code",
      "source": [
        "def area(a, b , area = \"area\"):\n",
        "  print(area, a*b)\n",
        "area(2,3)"
      ],
      "metadata": {
        "colab": {
          "base_uri": "https://localhost:8080/"
        },
        "id": "zL7T6mlFYW6Q",
        "outputId": "c8c95efe-c127-416f-cc12-56a7676cffe4"
      },
      "execution_count": 3,
      "outputs": [
        {
          "output_type": "stream",
          "name": "stdout",
          "text": [
            "area 6\n"
          ]
        }
      ]
    }
  ]
}